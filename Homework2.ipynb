{
 "cells": [
  {
   "cell_type": "markdown",
   "id": "9fedebc9-6aff-405b-8060-31349e66d3f1",
   "metadata": {},
   "source": [
    "# Homework2"
   ]
  },
  {
   "cell_type": "code",
   "execution_count": 2,
   "id": "6e728ae9-e684-45fd-9822-8551a4412817",
   "metadata": {},
   "outputs": [],
   "source": [
    "#import all libraries\n",
    "import pandas as pd\n",
    "from sklearn.datasets import load_iris\n",
    "from sklearn.tree import DecisionTreeClassifier\n",
    "from sklearn.model_selection import train_test_split\n",
    "from sklearn.tree import DecisionTreeClassifier\n",
    "import numpy as np\n",
    "from sklearn.decomposition import PCA\n",
    "from sklearn.metrics import precision_score, recall_score, f1_score, confusion_matrix"
   ]
  },
  {
   "cell_type": "markdown",
   "id": "b12e1bd7-f08b-473f-ae0f-baeef2d4174b",
   "metadata": {},
   "source": [
    "## Problem 1"
   ]
  },
  {
   "cell_type": "code",
   "execution_count": 3,
   "id": "8760233f-05b1-459b-936a-e1d1c85b2478",
   "metadata": {
    "scrolled": true
   },
   "outputs": [
    {
     "data": {
      "text/html": [
       "<div>\n",
       "<style scoped>\n",
       "    .dataframe tbody tr th:only-of-type {\n",
       "        vertical-align: middle;\n",
       "    }\n",
       "\n",
       "    .dataframe tbody tr th {\n",
       "        vertical-align: top;\n",
       "    }\n",
       "\n",
       "    .dataframe thead th {\n",
       "        text-align: right;\n",
       "    }\n",
       "</style>\n",
       "<table border=\"1\" class=\"dataframe\">\n",
       "  <thead>\n",
       "    <tr style=\"text-align: right;\">\n",
       "      <th></th>\n",
       "      <th>sepal length (cm)</th>\n",
       "      <th>sepal width (cm)</th>\n",
       "      <th>petal length (cm)</th>\n",
       "      <th>petal width (cm)</th>\n",
       "    </tr>\n",
       "  </thead>\n",
       "  <tbody>\n",
       "    <tr>\n",
       "      <th>0</th>\n",
       "      <td>5.1</td>\n",
       "      <td>3.5</td>\n",
       "      <td>1.4</td>\n",
       "      <td>0.2</td>\n",
       "    </tr>\n",
       "    <tr>\n",
       "      <th>1</th>\n",
       "      <td>4.9</td>\n",
       "      <td>3.0</td>\n",
       "      <td>1.4</td>\n",
       "      <td>0.2</td>\n",
       "    </tr>\n",
       "    <tr>\n",
       "      <th>2</th>\n",
       "      <td>4.7</td>\n",
       "      <td>3.2</td>\n",
       "      <td>1.3</td>\n",
       "      <td>0.2</td>\n",
       "    </tr>\n",
       "    <tr>\n",
       "      <th>3</th>\n",
       "      <td>4.6</td>\n",
       "      <td>3.1</td>\n",
       "      <td>1.5</td>\n",
       "      <td>0.2</td>\n",
       "    </tr>\n",
       "    <tr>\n",
       "      <th>4</th>\n",
       "      <td>5.0</td>\n",
       "      <td>3.6</td>\n",
       "      <td>1.4</td>\n",
       "      <td>0.2</td>\n",
       "    </tr>\n",
       "  </tbody>\n",
       "</table>\n",
       "</div>"
      ],
      "text/plain": [
       "   sepal length (cm)  sepal width (cm)  petal length (cm)  petal width (cm)\n",
       "0                5.1               3.5                1.4               0.2\n",
       "1                4.9               3.0                1.4               0.2\n",
       "2                4.7               3.2                1.3               0.2\n",
       "3                4.6               3.1                1.5               0.2\n",
       "4                5.0               3.6                1.4               0.2"
      ]
     },
     "execution_count": 3,
     "metadata": {},
     "output_type": "execute_result"
    }
   ],
   "source": [
    "#read the data and convert the data as a dataframe\n",
    "iris=load_iris()\n",
    "df=pd.DataFrame(data=iris.data,columns=iris.feature_names)\n",
    "df.head()"
   ]
  },
  {
   "cell_type": "code",
   "execution_count": 4,
   "id": "18c184ea-d622-49d0-9271-f3814568ed1c",
   "metadata": {},
   "outputs": [],
   "source": [
    "df['target']=iris.target"
   ]
  },
  {
   "cell_type": "code",
   "execution_count": 5,
   "id": "fdbc31ea-90ee-4cc1-9251-ff13b65fbce4",
   "metadata": {},
   "outputs": [],
   "source": [
    "#set X-variables and Y-target variable\n",
    "X=df.drop('target',axis=1)\n",
    "y=df.target"
   ]
  },
  {
   "cell_type": "code",
   "execution_count": 6,
   "id": "15758e3a-17c7-4b35-bfe5-bb6872454a43",
   "metadata": {},
   "outputs": [],
   "source": [
    "#split the train and test data\n",
    "X_train,X_test,y_train,y_test=train_test_split(X,y,random_state=42)"
   ]
  },
  {
   "cell_type": "code",
   "execution_count": 7,
   "id": "73c99aae-c40d-4ae1-b8e7-47c49bff07f6",
   "metadata": {},
   "outputs": [
    {
     "name": "stdout",
     "output_type": "stream",
     "text": [
      "micro\n",
      "depth: 1\n",
      "recall: 0.6842\n",
      "precision: 0.6842\n",
      "f1 score: 0.6842\n",
      "macro\n",
      "depth: 1\n",
      "recall: 0.6667\n",
      "precision: 0.4928\n",
      "f1 score: 0.5490\n",
      "weighted methods\n",
      "depth: 1\n",
      "recall: 0.6842\n",
      "precision: 0.5332\n",
      "f1 score: 0.5820\n",
      "micro\n",
      "depth: 2\n",
      "recall: 0.9737\n",
      "precision: 0.9737\n",
      "f1 score: 0.9737\n",
      "macro\n",
      "depth: 2\n",
      "recall: 0.9697\n",
      "precision: 0.9744\n",
      "f1 score: 0.9708\n",
      "weighted methods\n",
      "depth: 2\n",
      "recall: 0.9737\n",
      "precision: 0.9757\n",
      "f1 score: 0.9736\n",
      "micro\n",
      "depth: 3\n",
      "recall: 1.0000\n",
      "precision: 1.0000\n",
      "f1 score: 1.0000\n",
      "macro\n",
      "depth: 3\n",
      "recall: 1.0000\n",
      "precision: 1.0000\n",
      "f1 score: 1.0000\n",
      "weighted methods\n",
      "depth: 3\n",
      "recall: 1.0000\n",
      "precision: 1.0000\n",
      "f1 score: 1.0000\n",
      "micro\n",
      "depth: 4\n",
      "recall: 1.0000\n",
      "precision: 1.0000\n",
      "f1 score: 1.0000\n",
      "macro\n",
      "depth: 4\n",
      "recall: 1.0000\n",
      "precision: 1.0000\n",
      "f1 score: 1.0000\n",
      "weighted methods\n",
      "depth: 4\n",
      "recall: 1.0000\n",
      "precision: 1.0000\n",
      "f1 score: 1.0000\n",
      "micro\n",
      "depth: 5\n",
      "recall: 1.0000\n",
      "precision: 1.0000\n",
      "f1 score: 1.0000\n",
      "macro\n",
      "depth: 5\n",
      "recall: 1.0000\n",
      "precision: 1.0000\n",
      "f1 score: 1.0000\n",
      "weighted methods\n",
      "depth: 5\n",
      "recall: 1.0000\n",
      "precision: 1.0000\n",
      "f1 score: 1.0000\n",
      "\n",
      "max recall: 1.0000\n",
      "max precision: 1.0000\n",
      "max f1 score: 1.0000\n"
     ]
    }
   ],
   "source": [
    "max_recall=0\n",
    "max_precision=0\n",
    "max_f1=0\n",
    "#traverse the depth of the decision tree\n",
    "for i in range(1,6):\n",
    "    #fit the modal\n",
    "    tree=DecisionTreeClassifier(min_samples_leaf=2,min_samples_split=5, max_depth=i)\n",
    "    tree.fit(X_train,y_train)\n",
    "    y_pred=tree.predict(X_test)\n",
    "    # calculate the recall score,precision score and f1 score\n",
    "    recall=recall_score(y_test,y_pred,average='micro')\n",
    "    precision=precision_score(y_test,y_pred,average='micro',zero_division=0)\n",
    "    f1=f1_score(y_test,y_pred,average='micro')\n",
    "    print(f\"micro\")\n",
    "    print(f\"depth: {i:}\")\n",
    "    print(f\"recall: {recall:.4f}\")\n",
    "    print(f\"precision: {precision:.4f}\")\n",
    "    print(f\"f1 score: {f1:.4f}\")\n",
    "    recall=recall_score(y_test,y_pred,average='macro')\n",
    "    precision=precision_score(y_test,y_pred,average='macro',zero_division=0)\n",
    "    f1=f1_score(y_test,y_pred,average='macro')\n",
    "    print(f\"macro\")\n",
    "    print(f\"depth: {i:}\")\n",
    "    print(f\"recall: {recall:.4f}\")\n",
    "    print(f\"precision: {precision:.4f}\")\n",
    "    print(f\"f1 score: {f1:.4f}\")\n",
    "    recall=recall_score(y_test,y_pred,average='weighted')\n",
    "    precision=precision_score(y_test,y_pred,average='weighted',zero_division=0)\n",
    "    f1=f1_score(y_test,y_pred,average='weighted')\n",
    "    print(f\"weighted methods\")\n",
    "    print(f\"depth: {i:}\")\n",
    "    print(f\"recall: {recall:.4f}\")\n",
    "    print(f\"precision: {precision:.4f}\")\n",
    "    print(f\"f1 score: {f1:.4f}\")\n",
    "    \n",
    "    \n",
    "    if recall>max_recall:\n",
    "        max_recall=recall\n",
    "    if precision>max_precision:\n",
    "        max_precision=precision\n",
    "    if f1>max_f1:\n",
    "        max_f1=f1\n",
    "print(f\"\\nmax recall: {max_recall:.4f}\")\n",
    "print(f\"max precision: {max_precision:.4f}\")\n",
    "print(f\"max f1 score: {max_f1:.4f}\")"
   ]
  },
  {
   "cell_type": "markdown",
   "id": "a5f732b4-92ea-422d-8408-2eecdd2817d6",
   "metadata": {},
   "source": [
    "## Problem 2"
   ]
  },
  {
   "cell_type": "code",
   "execution_count": 9,
   "id": "b08d197b-0aab-4539-89f8-ec42e0e7b390",
   "metadata": {},
   "outputs": [],
   "source": [
    "#read the data\n",
    "url='https://archive.ics.uci.edu/ml/machine-learning-databases/breast-cancer-wisconsin/breast-cancer-wisconsin.data'\n",
    "column_names=['id','clump_thickness','uniformity_of_cell_size','uniformity_of_cell_shape','marginal_adhesion', 'single_epithelial_cell_size', 'bare_nuclei','bland_chromatin', 'normal_nucleoli', 'mitoses', 'class']\n",
    "data=pd.read_csv(url, names=column_names)"
   ]
  },
  {
   "cell_type": "code",
   "execution_count": 10,
   "id": "bf2d4430-7534-44c5-814c-971e2ed9d3e0",
   "metadata": {},
   "outputs": [
    {
     "name": "stdout",
     "output_type": "stream",
     "text": [
      "<class 'pandas.core.frame.DataFrame'>\n",
      "Index: 675 entries, 0 to 698\n",
      "Data columns (total 11 columns):\n",
      " #   Column                       Non-Null Count  Dtype \n",
      "---  ------                       --------------  ----- \n",
      " 0   id                           675 non-null    int64 \n",
      " 1   clump_thickness              675 non-null    int64 \n",
      " 2   uniformity_of_cell_size      675 non-null    int64 \n",
      " 3   uniformity_of_cell_shape     675 non-null    int64 \n",
      " 4   marginal_adhesion            675 non-null    int64 \n",
      " 5   single_epithelial_cell_size  675 non-null    int64 \n",
      " 6   bare_nuclei                  675 non-null    object\n",
      " 7   bland_chromatin              675 non-null    int64 \n",
      " 8   normal_nucleoli              675 non-null    int64 \n",
      " 9   mitoses                      675 non-null    int64 \n",
      " 10  class                        675 non-null    int64 \n",
      "dtypes: int64(10), object(1)\n",
      "memory usage: 63.3+ KB\n"
     ]
    }
   ],
   "source": [
    "#clean the data\n",
    "data=data.replace('?',np.nan)\n",
    "data=data.dropna()\n",
    "data=data.drop_duplicates()\n",
    "data.info()"
   ]
  },
  {
   "cell_type": "code",
   "execution_count": 11,
   "id": "a268d12d-bbc5-41fd-bad8-255b82ca725f",
   "metadata": {},
   "outputs": [],
   "source": [
    "#set the independent and dependent/target variable\n",
    "X=data.drop(['id','class'],axis=1)\n",
    "y=data['class']"
   ]
  },
  {
   "cell_type": "code",
   "execution_count": 12,
   "id": "51882f6e-e5ce-47fc-aeeb-817a0f7ee3e8",
   "metadata": {},
   "outputs": [
    {
     "data": {
      "text/plain": [
       "array([2, 4], dtype=int64)"
      ]
     },
     "execution_count": 12,
     "metadata": {},
     "output_type": "execute_result"
    }
   ],
   "source": [
    "#2 benign 4 malignant\n",
    "data['class'].unique()"
   ]
  },
  {
   "cell_type": "code",
   "execution_count": 13,
   "id": "acd55d16-c73b-4ab6-be4e-f059b07c13b9",
   "metadata": {},
   "outputs": [],
   "source": [
    "#split the train and test data\n",
    "X_train,X_test,y_train,y_test=train_test_split(X,y,random_state=42)"
   ]
  },
  {
   "cell_type": "code",
   "execution_count": 14,
   "id": "bdc0a6ca-2786-410b-9d84-1fa91b317078",
   "metadata": {},
   "outputs": [],
   "source": [
    "#fit the model\n",
    "tree=DecisionTreeClassifier(min_samples_leaf=2,min_samples_split=5,max_depth=2).fit(X_train, y_train)"
   ]
  },
  {
   "cell_type": "code",
   "execution_count": 15,
   "id": "ac45e947-645b-4a79-a7ee-16e87841ad30",
   "metadata": {},
   "outputs": [],
   "source": [
    "def entropy(y):\n",
    "    p=np.unique(y,return_counts=True)[1]/len(y)\n",
    "    return -np.sum(p*np.log2(p))"
   ]
  },
  {
   "cell_type": "code",
   "execution_count": 16,
   "id": "6d163f31-7bb4-43c5-8936-6ccdd36fd9a6",
   "metadata": {},
   "outputs": [],
   "source": [
    "def gini(y):\n",
    "    p=np.unique(y,return_counts=True)[1]/len(y)\n",
    "    return 1-np.sum(p**2)"
   ]
  },
  {
   "cell_type": "code",
   "execution_count": 17,
   "id": "ec29ccac-7538-405f-bdc4-b4209c86fa0f",
   "metadata": {},
   "outputs": [],
   "source": [
    "def misclassification_error(y):\n",
    "    p=np.unique(y,return_counts=True)[1]/len(y)\n",
    "    return 1-np.max(p)"
   ]
  },
  {
   "cell_type": "code",
   "execution_count": 18,
   "id": "7f690cd1-c23d-4f80-9471-d8fd96b509e3",
   "metadata": {},
   "outputs": [
    {
     "name": "stdout",
     "output_type": "stream",
     "text": [
      "Entropy of the root node: 0.9266\n",
      "Gini of the root node: 0.4500\n",
      "Misclassification of the root node: 0.3419\n"
     ]
    }
   ],
   "source": [
    "root_entropy = entropy(y_train)\n",
    "root_gini = gini(y_train)\n",
    "root_misclassification = misclassification_error(y_train)\n",
    "print(f\"Entropy of the root node: {root_entropy:.4f}\")\n",
    "print(f\"Gini of the root node: {root_gini:.4f}\")\n",
    "print(f\"Misclassification of the root node: {root_misclassification:.4f}\")"
   ]
  },
  {
   "cell_type": "code",
   "execution_count": 19,
   "id": "4aaf3765-b877-457d-82ba-9ae517eefefe",
   "metadata": {},
   "outputs": [
    {
     "name": "stdout",
     "output_type": "stream",
     "text": [
      "Feature selected for the first split: uniformity_of_cell_size\n",
      "Value determined the decision boudary: 2.5\n"
     ]
    }
   ],
   "source": [
    "#obtain the internal structure of the decision tree\n",
    "feature_name=X_train.columns[tree.tree_.feature[0]]\n",
    "threshold=tree.tree_.threshold[0]\n",
    "print(f\"Feature selected for the first split: {feature_name}\")\n",
    "print(f\"Value determined the decision boudary: {threshold}\")"
   ]
  },
  {
   "cell_type": "code",
   "execution_count": 24,
   "id": "97cffeae-9809-49fa-a104-19dd4780b52a",
   "metadata": {},
   "outputs": [
    {
     "name": "stdout",
     "output_type": "stream",
     "text": [
      "Entropy of the left node: 0.0995\n",
      "Entropy of the right node: 0.5783\n",
      "Gini of the left node: 0.0255\n",
      "Gini of the right node: 0.2376\n",
      "Misclassification of the left node: 0.0129\n",
      "Misclassification of the right node: 0.1378\n"
     ]
    }
   ],
   "source": [
    "left=X_train[feature_name]<=threshold\n",
    "right=X_train[feature_name]>threshold\n",
    "left_entropy=entropy(y_train[left])\n",
    "right_entropy=entropy(y_train[right])\n",
    "left_gini=gini(y_train[left])\n",
    "right_gini=gini(y_train[right])\n",
    "left_misclassification=misclassification_error(y_train[left])\n",
    "right_misclassification=misclassification_error(y_train[right])\n",
    "print(f\"Entropy of the left node: {left_entropy:.4f}\")\n",
    "print(f\"Entropy of the right node: {right_entropy:.4f}\")\n",
    "print(f\"Gini of the left node: {left_gini:.4f}\")\n",
    "print(f\"Gini of the right node: {right_gini:.4f}\")\n",
    "print(f\"Misclassification of the left node: {left_misclassification:.4f}\")\n",
    "print(f\"Misclassification of the right node: {right_misclassification:.4f}\")"
   ]
  },
  {
   "cell_type": "code",
   "execution_count": 25,
   "id": "ee8fbc2e-d164-4ce3-8213-13725eb222b1",
   "metadata": {},
   "outputs": [
    {
     "name": "stdout",
     "output_type": "stream",
     "text": [
      "Entropy after the first split: 0.2850\n",
      "Gini after the first split: 0.1076\n",
      "Misclassification after the first split: 0.1076\n"
     ]
    }
   ],
   "source": [
    "leaf_entropy=len(y_train[left])/len(y_train)*left_entropy+len(y_train[right])/len(y_train)*right_entropy\n",
    "leaf_gini=len(y_train[left])/len(y_train)*left_gini+len(y_train[right])/len(y_train)*right_gini\n",
    "leaf_misclassification=len(y_train[left])/len(y_train)*left_misclassification+len(y_train[right])/len(y_train)*right_misclassification\n",
    "print(f\"Entropy after the first split: {leaf_entropy:.4f}\")\n",
    "print(f\"Gini after the first split: {leaf_gini:.4f}\")\n",
    "print(f\"Misclassification after the first split: {leaf_gini:.4f}\")"
   ]
  },
  {
   "cell_type": "code",
   "execution_count": 22,
   "id": "3c25efe7-43fc-4a50-8314-a1b07463fd34",
   "metadata": {},
   "outputs": [
    {
     "name": "stdout",
     "output_type": "stream",
     "text": [
      "Information gain of the entropy: 0.6417\n",
      "Information gain of the gini: 0.3424\n"
     ]
    }
   ],
   "source": [
    "#calculate the information gain\n",
    "entropy_info_gain=root_entropy-leaf_entropy\n",
    "gini_info_gain=root_gini-leaf_gini\n",
    "print(f\"Information gain of the entropy: {entropy_info_gain:.4f}\")\n",
    "print(f\"Information gain of the gini: {gini_info_gain:.4f}\")"
   ]
  },
  {
   "cell_type": "code",
   "execution_count": 29,
   "id": "d5a433e7-99c5-43f4-ac86-944739c785a4",
   "metadata": {},
   "outputs": [
    {
     "name": "stdout",
     "output_type": "stream",
     "text": [
      "FP: 5, TP: 55\n",
      "FPR: 0.04716981132075472, TPR: 0.873015873015873\n"
     ]
    }
   ],
   "source": [
    "y_pred=tree.predict(X_test)\n",
    "cm=confusion_matrix(y_test,y_pred)\n",
    "TN,FP,FN,TP=cm.ravel()\n",
    "FPR=FP/(FP+TN)\n",
    "TPR=TP/(TP+FN)\n",
    "print(f\"FP: {FP}, TP: {TP}\")\n",
    "print(f\"FPR: {FPR}, TPR: {TPR}\")"
   ]
  },
  {
   "cell_type": "markdown",
   "id": "4dd59b65-8ead-4f88-ba03-366f13bdbf6b",
   "metadata": {},
   "source": [
    "## Problem 3"
   ]
  },
  {
   "cell_type": "code",
   "execution_count": 26,
   "id": "4bc5d5a5-f49c-45fc-916a-4977c5430e73",
   "metadata": {},
   "outputs": [
    {
     "data": {
      "text/html": [
       "<div>\n",
       "<style scoped>\n",
       "    .dataframe tbody tr th:only-of-type {\n",
       "        vertical-align: middle;\n",
       "    }\n",
       "\n",
       "    .dataframe tbody tr th {\n",
       "        vertical-align: top;\n",
       "    }\n",
       "\n",
       "    .dataframe thead th {\n",
       "        text-align: right;\n",
       "    }\n",
       "</style>\n",
       "<table border=\"1\" class=\"dataframe\">\n",
       "  <thead>\n",
       "    <tr style=\"text-align: right;\">\n",
       "      <th></th>\n",
       "      <th>id</th>\n",
       "      <th>diagnosis</th>\n",
       "      <th>M_radius</th>\n",
       "      <th>M_texture</th>\n",
       "      <th>M_perimeter</th>\n",
       "      <th>M_area</th>\n",
       "      <th>M_smoothness</th>\n",
       "      <th>M_compactness</th>\n",
       "      <th>M_concavity</th>\n",
       "      <th>M_concave points</th>\n",
       "      <th>...</th>\n",
       "      <th>W_radius</th>\n",
       "      <th>W_texture</th>\n",
       "      <th>W_perimeter</th>\n",
       "      <th>W_area</th>\n",
       "      <th>W_smoothness</th>\n",
       "      <th>W_compactness</th>\n",
       "      <th>W_concavity</th>\n",
       "      <th>W_concave points</th>\n",
       "      <th>W_symmetry</th>\n",
       "      <th>W_fractal dimension</th>\n",
       "    </tr>\n",
       "  </thead>\n",
       "  <tbody>\n",
       "    <tr>\n",
       "      <th>0</th>\n",
       "      <td>842302</td>\n",
       "      <td>M</td>\n",
       "      <td>17.99</td>\n",
       "      <td>10.38</td>\n",
       "      <td>122.80</td>\n",
       "      <td>1001.0</td>\n",
       "      <td>0.11840</td>\n",
       "      <td>0.27760</td>\n",
       "      <td>0.3001</td>\n",
       "      <td>0.14710</td>\n",
       "      <td>...</td>\n",
       "      <td>25.38</td>\n",
       "      <td>17.33</td>\n",
       "      <td>184.60</td>\n",
       "      <td>2019.0</td>\n",
       "      <td>0.1622</td>\n",
       "      <td>0.6656</td>\n",
       "      <td>0.7119</td>\n",
       "      <td>0.2654</td>\n",
       "      <td>0.4601</td>\n",
       "      <td>0.11890</td>\n",
       "    </tr>\n",
       "    <tr>\n",
       "      <th>1</th>\n",
       "      <td>842517</td>\n",
       "      <td>M</td>\n",
       "      <td>20.57</td>\n",
       "      <td>17.77</td>\n",
       "      <td>132.90</td>\n",
       "      <td>1326.0</td>\n",
       "      <td>0.08474</td>\n",
       "      <td>0.07864</td>\n",
       "      <td>0.0869</td>\n",
       "      <td>0.07017</td>\n",
       "      <td>...</td>\n",
       "      <td>24.99</td>\n",
       "      <td>23.41</td>\n",
       "      <td>158.80</td>\n",
       "      <td>1956.0</td>\n",
       "      <td>0.1238</td>\n",
       "      <td>0.1866</td>\n",
       "      <td>0.2416</td>\n",
       "      <td>0.1860</td>\n",
       "      <td>0.2750</td>\n",
       "      <td>0.08902</td>\n",
       "    </tr>\n",
       "    <tr>\n",
       "      <th>2</th>\n",
       "      <td>84300903</td>\n",
       "      <td>M</td>\n",
       "      <td>19.69</td>\n",
       "      <td>21.25</td>\n",
       "      <td>130.00</td>\n",
       "      <td>1203.0</td>\n",
       "      <td>0.10960</td>\n",
       "      <td>0.15990</td>\n",
       "      <td>0.1974</td>\n",
       "      <td>0.12790</td>\n",
       "      <td>...</td>\n",
       "      <td>23.57</td>\n",
       "      <td>25.53</td>\n",
       "      <td>152.50</td>\n",
       "      <td>1709.0</td>\n",
       "      <td>0.1444</td>\n",
       "      <td>0.4245</td>\n",
       "      <td>0.4504</td>\n",
       "      <td>0.2430</td>\n",
       "      <td>0.3613</td>\n",
       "      <td>0.08758</td>\n",
       "    </tr>\n",
       "    <tr>\n",
       "      <th>3</th>\n",
       "      <td>84348301</td>\n",
       "      <td>M</td>\n",
       "      <td>11.42</td>\n",
       "      <td>20.38</td>\n",
       "      <td>77.58</td>\n",
       "      <td>386.1</td>\n",
       "      <td>0.14250</td>\n",
       "      <td>0.28390</td>\n",
       "      <td>0.2414</td>\n",
       "      <td>0.10520</td>\n",
       "      <td>...</td>\n",
       "      <td>14.91</td>\n",
       "      <td>26.50</td>\n",
       "      <td>98.87</td>\n",
       "      <td>567.7</td>\n",
       "      <td>0.2098</td>\n",
       "      <td>0.8663</td>\n",
       "      <td>0.6869</td>\n",
       "      <td>0.2575</td>\n",
       "      <td>0.6638</td>\n",
       "      <td>0.17300</td>\n",
       "    </tr>\n",
       "    <tr>\n",
       "      <th>4</th>\n",
       "      <td>84358402</td>\n",
       "      <td>M</td>\n",
       "      <td>20.29</td>\n",
       "      <td>14.34</td>\n",
       "      <td>135.10</td>\n",
       "      <td>1297.0</td>\n",
       "      <td>0.10030</td>\n",
       "      <td>0.13280</td>\n",
       "      <td>0.1980</td>\n",
       "      <td>0.10430</td>\n",
       "      <td>...</td>\n",
       "      <td>22.54</td>\n",
       "      <td>16.67</td>\n",
       "      <td>152.20</td>\n",
       "      <td>1575.0</td>\n",
       "      <td>0.1374</td>\n",
       "      <td>0.2050</td>\n",
       "      <td>0.4000</td>\n",
       "      <td>0.1625</td>\n",
       "      <td>0.2364</td>\n",
       "      <td>0.07678</td>\n",
       "    </tr>\n",
       "  </tbody>\n",
       "</table>\n",
       "<p>5 rows × 32 columns</p>\n",
       "</div>"
      ],
      "text/plain": [
       "         id diagnosis  M_radius  M_texture  M_perimeter  M_area  M_smoothness  \\\n",
       "0    842302         M     17.99      10.38       122.80  1001.0       0.11840   \n",
       "1    842517         M     20.57      17.77       132.90  1326.0       0.08474   \n",
       "2  84300903         M     19.69      21.25       130.00  1203.0       0.10960   \n",
       "3  84348301         M     11.42      20.38        77.58   386.1       0.14250   \n",
       "4  84358402         M     20.29      14.34       135.10  1297.0       0.10030   \n",
       "\n",
       "   M_compactness  M_concavity  M_concave points  ...  W_radius  W_texture  \\\n",
       "0        0.27760       0.3001           0.14710  ...     25.38      17.33   \n",
       "1        0.07864       0.0869           0.07017  ...     24.99      23.41   \n",
       "2        0.15990       0.1974           0.12790  ...     23.57      25.53   \n",
       "3        0.28390       0.2414           0.10520  ...     14.91      26.50   \n",
       "4        0.13280       0.1980           0.10430  ...     22.54      16.67   \n",
       "\n",
       "   W_perimeter  W_area  W_smoothness  W_compactness  W_concavity  \\\n",
       "0       184.60  2019.0        0.1622         0.6656       0.7119   \n",
       "1       158.80  1956.0        0.1238         0.1866       0.2416   \n",
       "2       152.50  1709.0        0.1444         0.4245       0.4504   \n",
       "3        98.87   567.7        0.2098         0.8663       0.6869   \n",
       "4       152.20  1575.0        0.1374         0.2050       0.4000   \n",
       "\n",
       "   W_concave points  W_symmetry  W_fractal dimension  \n",
       "0            0.2654      0.4601              0.11890  \n",
       "1            0.1860      0.2750              0.08902  \n",
       "2            0.2430      0.3613              0.08758  \n",
       "3            0.2575      0.6638              0.17300  \n",
       "4            0.1625      0.2364              0.07678  \n",
       "\n",
       "[5 rows x 32 columns]"
      ]
     },
     "execution_count": 26,
     "metadata": {},
     "output_type": "execute_result"
    }
   ],
   "source": [
    "#read the data\n",
    "url='https://archive.ics.uci.edu/ml/machine-learning-databases/breast-cancer-wisconsin/wdbc.data'\n",
    "column_names=['id','diagnosis','M_radius','M_texture','M_perimeter','M_area','M_smoothness','M_compactness','M_concavity','M_concave points','M_symmetry','M_fractal dimension',\n",
    "              'SE_radius','SE_texture','SE_permeter','SE_area','SE_smoothness','SE_compactness','SE_concavity','SE_concave points','SE_symmetry','SE_fractal dimension',\n",
    "              'W_radius','W_texture','W_perimeter','W_area','W_smoothness','W_compactness','W_concavity','W_concave points','W_symmetry','W_fractal dimension']\n",
    "data=pd.read_csv(url, names=column_names)\n",
    "data.head()"
   ]
  },
  {
   "cell_type": "code",
   "execution_count": 27,
   "id": "275d682d-0b60-45f5-b5fe-201fbcb6b31a",
   "metadata": {},
   "outputs": [
    {
     "data": {
      "text/plain": [
       "array(['M', 'B'], dtype=object)"
      ]
     },
     "execution_count": 27,
     "metadata": {},
     "output_type": "execute_result"
    }
   ],
   "source": [
    "#B benign M malignant\n",
    "data['diagnosis'].unique()"
   ]
  },
  {
   "cell_type": "code",
   "execution_count": 28,
   "id": "ff438e0d-99a7-4606-beeb-1e1d58d97fee",
   "metadata": {},
   "outputs": [
    {
     "name": "stdout",
     "output_type": "stream",
     "text": [
      "<class 'pandas.core.frame.DataFrame'>\n",
      "RangeIndex: 569 entries, 0 to 568\n",
      "Data columns (total 32 columns):\n",
      " #   Column                Non-Null Count  Dtype  \n",
      "---  ------                --------------  -----  \n",
      " 0   id                    569 non-null    int64  \n",
      " 1   diagnosis             569 non-null    object \n",
      " 2   M_radius              569 non-null    float64\n",
      " 3   M_texture             569 non-null    float64\n",
      " 4   M_perimeter           569 non-null    float64\n",
      " 5   M_area                569 non-null    float64\n",
      " 6   M_smoothness          569 non-null    float64\n",
      " 7   M_compactness         569 non-null    float64\n",
      " 8   M_concavity           569 non-null    float64\n",
      " 9   M_concave points      569 non-null    float64\n",
      " 10  M_symmetry            569 non-null    float64\n",
      " 11  M_fractal dimension   569 non-null    float64\n",
      " 12  SE_radius             569 non-null    float64\n",
      " 13  SE_texture            569 non-null    float64\n",
      " 14  SE_permeter           569 non-null    float64\n",
      " 15  SE_area               569 non-null    float64\n",
      " 16  SE_smoothness         569 non-null    float64\n",
      " 17  SE_compactness        569 non-null    float64\n",
      " 18  SE_concavity          569 non-null    float64\n",
      " 19  SE_concave points     569 non-null    float64\n",
      " 20  SE_symmetry           569 non-null    float64\n",
      " 21  SE_fractal dimension  569 non-null    float64\n",
      " 22  W_radius              569 non-null    float64\n",
      " 23  W_texture             569 non-null    float64\n",
      " 24  W_perimeter           569 non-null    float64\n",
      " 25  W_area                569 non-null    float64\n",
      " 26  W_smoothness          569 non-null    float64\n",
      " 27  W_compactness         569 non-null    float64\n",
      " 28  W_concavity           569 non-null    float64\n",
      " 29  W_concave points      569 non-null    float64\n",
      " 30  W_symmetry            569 non-null    float64\n",
      " 31  W_fractal dimension   569 non-null    float64\n",
      "dtypes: float64(30), int64(1), object(1)\n",
      "memory usage: 142.4+ KB\n"
     ]
    }
   ],
   "source": [
    "#clean the data\n",
    "data=data.replace('?',np.nan)\n",
    "data=data.dropna()\n",
    "data=data.drop_duplicates()\n",
    "data.info()"
   ]
  },
  {
   "cell_type": "code",
   "execution_count": 29,
   "id": "a05a2b78-f620-4c93-b983-acbe888a9610",
   "metadata": {},
   "outputs": [],
   "source": [
    "#set the independent and dependent/target variable\n",
    "X=data.drop(['id','diagnosis'],axis=1)\n",
    "y=data['diagnosis']"
   ]
  },
  {
   "cell_type": "code",
   "execution_count": 30,
   "id": "34da91f1-0e4c-41bd-9766-4e244c795058",
   "metadata": {},
   "outputs": [],
   "source": [
    "#split the train and test data\n",
    "X_train,X_test,y_train,y_test=train_test_split(X,y,random_state=42)"
   ]
  },
  {
   "cell_type": "code",
   "execution_count": 31,
   "id": "0384dbe7-2553-41da-9df2-6bc176650f98",
   "metadata": {},
   "outputs": [],
   "source": [
    "#fit the original modal\n",
    "tree1=DecisionTreeClassifier(min_samples_leaf=2,min_samples_split=5,max_depth=2)\n",
    "tree1.fit(X_train,y_train)\n",
    "y_pred_1=tree1.predict(X_test)"
   ]
  },
  {
   "cell_type": "code",
   "execution_count": 32,
   "id": "15538c27-4460-410e-af6c-8f7d01eac7d2",
   "metadata": {},
   "outputs": [
    {
     "name": "stdout",
     "output_type": "stream",
     "text": [
      "precision of the original data: 0.8889\n",
      "recall of the original data: 0.8889\n",
      "f1 score of the original data: 0.8889\n"
     ]
    }
   ],
   "source": [
    "precision_1=precision_score(y_test,y_pred_1,pos_label='M')\n",
    "recall_1=recall_score(y_test, y_pred_1,pos_label='M')\n",
    "f1_1= f1_score(y_test, y_pred_1,pos_label='M')\n",
    "print(f\"precision of the original data: {precision_1:.4f}\")\n",
    "print(f\"recall of the original data: {recall_1:.4f}\")\n",
    "print(f\"f1 score of the original data: {f1_1:.4f}\")"
   ]
  },
  {
   "cell_type": "code",
   "execution_count": 33,
   "id": "dd50bde3-6ff8-47b7-9538-b8efce42eafc",
   "metadata": {},
   "outputs": [
    {
     "name": "stdout",
     "output_type": "stream",
     "text": [
      "FP: 6, TP: 48\n",
      "FPR: 0.06741573033707865, TPR: 0.8888888888888888\n"
     ]
    }
   ],
   "source": [
    "cm_1=confusion_matrix(y_test,y_pred_1)\n",
    "TN,FP,FN,TP=cm_1.ravel()\n",
    "FPR=FP/(FP+TN)\n",
    "TPR=TP/(TP+FN)\n",
    "print(f\"FP: {FP}, TP: {TP}\")\n",
    "print(f\"FPR: {FPR}, TPR: {TPR}\")"
   ]
  },
  {
   "cell_type": "code",
   "execution_count": 34,
   "id": "324f9d74-6f3f-427b-adbb-b04b30e8c39e",
   "metadata": {},
   "outputs": [],
   "source": [
    "pca_1=PCA(n_components=1)\n",
    "X_train_2=pca_1.fit_transform(X_train)\n",
    "X_test_2=pca_1.transform(X_test)"
   ]
  },
  {
   "cell_type": "code",
   "execution_count": 35,
   "id": "64d47505-2991-4764-8c73-e9152348858d",
   "metadata": {},
   "outputs": [],
   "source": [
    "#fit the modal\n",
    "tree_2=DecisionTreeClassifier(min_samples_leaf=2, min_samples_split=5, max_depth=2)\n",
    "tree_2.fit(X_train_2,y_train)\n",
    "y_pred_2=tree_2.predict(X_test_2)"
   ]
  },
  {
   "cell_type": "code",
   "execution_count": 36,
   "id": "81762cd6-916b-4d4d-b3c8-c0a95ae9eb87",
   "metadata": {},
   "outputs": [
    {
     "name": "stdout",
     "output_type": "stream",
     "text": [
      "precision after PCA: 0.9796\n",
      "recall after PCA: 0.8889\n",
      "f1 score after PCA: 0.9320\n"
     ]
    }
   ],
   "source": [
    "precision_2=precision_score(y_test,y_pred_2,pos_label='M')\n",
    "recall_2=recall_score(y_test,y_pred_2,pos_label='M')\n",
    "f1_2=f1_score(y_test,y_pred_2,pos_label='M')\n",
    "print(f\"precision after PCA: {precision_2:.4f}\")\n",
    "print(f\"recall after PCA: {recall_2:.4f}\")\n",
    "print(f\"f1 score after PCA: {f1_2:.4f}\")"
   ]
  },
  {
   "cell_type": "code",
   "execution_count": 37,
   "id": "3a9dee73-fa3a-453c-9d9e-d1c96bc02700",
   "metadata": {},
   "outputs": [
    {
     "name": "stdout",
     "output_type": "stream",
     "text": [
      "FP: 1, TP: 48\n",
      "FPR: 0.011235955056179775, TPR: 0.8888888888888888\n"
     ]
    }
   ],
   "source": [
    "cm_2=confusion_matrix(y_test,y_pred_2)\n",
    "TN,FP,FN,TP=cm_2.ravel()\n",
    "FPR=FP/(FP+TN)\n",
    "TPR=TP/(TP+FN)\n",
    "print(f\"FP: {FP}, TP: {TP}\")\n",
    "print(f\"FPR: {FPR}, TPR: {TPR}\")"
   ]
  },
  {
   "cell_type": "code",
   "execution_count": 38,
   "id": "8806d8ed-bf9d-45b3-bf77-8cbbe9a8021e",
   "metadata": {},
   "outputs": [],
   "source": [
    "pca_2=PCA(n_components=2)\n",
    "X_train_3=pca_2.fit_transform(X_train)\n",
    "X_test_3=pca_2.transform(X_test)"
   ]
  },
  {
   "cell_type": "code",
   "execution_count": 39,
   "id": "d1a5f310-5370-439f-bfb4-913f68f57711",
   "metadata": {},
   "outputs": [],
   "source": [
    "#fit the modal\n",
    "tree_3=DecisionTreeClassifier(min_samples_leaf=2, min_samples_split=5, max_depth=2)\n",
    "tree_3.fit(X_train_3,y_train)\n",
    "y_pred_3=tree_3.predict(X_test_3)"
   ]
  },
  {
   "cell_type": "code",
   "execution_count": 40,
   "id": "786ad7c5-8efd-48b7-b7cd-6b99083fb49e",
   "metadata": {},
   "outputs": [
    {
     "name": "stdout",
     "output_type": "stream",
     "text": [
      "precision after PCA: 0.9796\n",
      "recall after PCA: 0.8889\n",
      "f1 score after PCA: 0.9320\n"
     ]
    }
   ],
   "source": [
    "precision_3=precision_score(y_test,y_pred_3,pos_label='M')\n",
    "recall_3=recall_score(y_test,y_pred_3,pos_label='M')\n",
    "f1_3=f1_score(y_test,y_pred_3,pos_label='M')\n",
    "print(f\"precision after PCA: {precision_3:.4f}\")\n",
    "print(f\"recall after PCA: {recall_3:.4f}\")\n",
    "print(f\"f1 score after PCA: {f1_3:.4f}\")"
   ]
  },
  {
   "cell_type": "code",
   "execution_count": 41,
   "id": "d3a2f4d0-c49f-4926-b9a5-0b885639fb64",
   "metadata": {},
   "outputs": [
    {
     "name": "stdout",
     "output_type": "stream",
     "text": [
      "FP: 1, TP: 48\n",
      "FPR: 0.011235955056179775, TPR: 0.8888888888888888\n"
     ]
    }
   ],
   "source": [
    "cm_3=confusion_matrix(y_test,y_pred_3)\n",
    "TN,FP,FN,TP=cm_3.ravel()\n",
    "FPR=FP/(FP+TN)\n",
    "TPR=TP/(TP+FN)\n",
    "print(f\"FP: {FP}, TP: {TP}\")\n",
    "print(f\"FPR: {FPR}, TPR: {TPR}\")"
   ]
  },
  {
   "cell_type": "code",
   "execution_count": null,
   "id": "47c4d85a-45b4-4f1c-9654-1292a7f90075",
   "metadata": {},
   "outputs": [],
   "source": []
  }
 ],
 "metadata": {
  "kernelspec": {
   "display_name": "Python 3 (ipykernel)",
   "language": "python",
   "name": "python3"
  },
  "language_info": {
   "codemirror_mode": {
    "name": "ipython",
    "version": 3
   },
   "file_extension": ".py",
   "mimetype": "text/x-python",
   "name": "python",
   "nbconvert_exporter": "python",
   "pygments_lexer": "ipython3",
   "version": "3.12.7"
  }
 },
 "nbformat": 4,
 "nbformat_minor": 5
}
